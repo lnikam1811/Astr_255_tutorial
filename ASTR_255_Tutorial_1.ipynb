{
  "nbformat": 4,
  "nbformat_minor": 0,
  "metadata": {
    "colab": {
      "provenance": [],
      "authorship_tag": "ABX9TyNr4bQWaJFGmS1w/sXX3Ai/",
      "include_colab_link": true
    },
    "kernelspec": {
      "name": "python3",
      "display_name": "Python 3"
    },
    "language_info": {
      "name": "python"
    }
  },
  "cells": [
    {
      "cell_type": "markdown",
      "metadata": {
        "id": "view-in-github",
        "colab_type": "text"
      },
      "source": [
        "<a href=\"https://colab.research.google.com/github/lnikam1811/Astr_255_tutorial/blob/master/ASTR_255_Tutorial_1.ipynb\" target=\"_parent\"><img src=\"https://colab.research.google.com/assets/colab-badge.svg\" alt=\"Open In Colab\"/></a>"
      ]
    },
    {
      "cell_type": "code",
      "execution_count": 3,
      "metadata": {
        "colab": {
          "base_uri": "https://localhost:8080/"
        },
        "id": "195rycS2Luhx",
        "outputId": "e2ddff1b-f32f-479d-d867-1d86c907127a"
      },
      "outputs": [
        {
          "output_type": "stream",
          "name": "stdout",
          "text": [
            "Looking in indexes: https://pypi.org/simple, https://us-python.pkg.dev/colab-wheels/public/simple/\n",
            "Requirement already satisfied: matplotlib in /usr/local/lib/python3.8/dist-packages (3.2.2)\n",
            "Requirement already satisfied: cycler>=0.10 in /usr/local/lib/python3.8/dist-packages (from matplotlib) (0.11.0)\n",
            "Requirement already satisfied: numpy>=1.11 in /usr/local/lib/python3.8/dist-packages (from matplotlib) (1.21.6)\n",
            "Requirement already satisfied: kiwisolver>=1.0.1 in /usr/local/lib/python3.8/dist-packages (from matplotlib) (1.4.4)\n",
            "Requirement already satisfied: pyparsing!=2.0.4,!=2.1.2,!=2.1.6,>=2.0.1 in /usr/local/lib/python3.8/dist-packages (from matplotlib) (3.0.9)\n",
            "Requirement already satisfied: python-dateutil>=2.1 in /usr/local/lib/python3.8/dist-packages (from matplotlib) (2.8.2)\n",
            "Requirement already satisfied: six>=1.5 in /usr/local/lib/python3.8/dist-packages (from python-dateutil>=2.1->matplotlib) (1.15.0)\n"
          ]
        }
      ],
      "source": [
        "!pip install matplotlib\n",
        "\n",
        "%matplotlib inline\n",
        "## This command allows us to print figures within the notebook and not in a pop up window\n",
        "\n",
        "import matplotlib.pyplot as plt\n",
        "import numpy as np"
      ]
    },
    {
      "cell_type": "markdown",
      "source": [
        "# Numpy"
      ],
      "metadata": {
        "id": "dblEPZnZMut8"
      }
    },
    {
      "cell_type": "code",
      "source": [
        "x = np.linspace(0, 100, 10)\n",
        "x"
      ],
      "metadata": {
        "colab": {
          "base_uri": "https://localhost:8080/"
        },
        "id": "qFCwKOWPMtky",
        "outputId": "1f7e9b78-bfe1-44ad-88bf-25c7476699e9"
      },
      "execution_count": 5,
      "outputs": [
        {
          "output_type": "execute_result",
          "data": {
            "text/plain": [
              "array([  0.        ,  11.11111111,  22.22222222,  33.33333333,\n",
              "        44.44444444,  55.55555556,  66.66666667,  77.77777778,\n",
              "        88.88888889, 100.        ])"
            ]
          },
          "metadata": {},
          "execution_count": 5
        }
      ]
    },
    {
      "cell_type": "code",
      "source": [
        "m = 2\n",
        "b = 4\n",
        "y = m*x + b\n",
        "y"
      ],
      "metadata": {
        "colab": {
          "base_uri": "https://localhost:8080/"
        },
        "id": "4ew-PXIxNi8Z",
        "outputId": "3c90da15-b5b5-4438-aad6-ec6a97bfd959"
      },
      "execution_count": 6,
      "outputs": [
        {
          "output_type": "execute_result",
          "data": {
            "text/plain": [
              "array([  4.        ,  26.22222222,  48.44444444,  70.66666667,\n",
              "        92.88888889, 115.11111111, 137.33333333, 159.55555556,\n",
              "       181.77777778, 204.        ])"
            ]
          },
          "metadata": {},
          "execution_count": 6
        }
      ]
    },
    {
      "cell_type": "code",
      "source": [
        "fig = plt.figure(figsize = (5, 5))\n",
        "plt.plot(x, y, color = 'red', lw = 2.)"
      ],
      "metadata": {
        "colab": {
          "base_uri": "https://localhost:8080/",
          "height": 337
        },
        "id": "6zi33_4SNupx",
        "outputId": "258ef29d-b2de-4a61-946b-88fa9c2f7be6"
      },
      "execution_count": 17,
      "outputs": [
        {
          "output_type": "execute_result",
          "data": {
            "text/plain": [
              "[<matplotlib.lines.Line2D at 0x7f8e6e45c8b0>]"
            ]
          },
          "metadata": {},
          "execution_count": 17
        },
        {
          "output_type": "display_data",
          "data": {
            "text/plain": [
              "<Figure size 360x360 with 1 Axes>"
            ],
            "image/png": "[encoded data removed]"
          },
          "metadata": {
            "needs_background": "light"
          }
        }
      ]
    },
    {
      "cell_type": "code",
      "source": [
        "xlog = np.logspace(0,2,10)\n",
        "ylog = m*xlog + b\n",
        "ylog"
      ],
      "metadata": {
        "colab": {
          "base_uri": "https://localhost:8080/"
        },
        "id": "9Y8PCZFbOflz",
        "outputId": "91529145-ff05-4e41-c7b9-3a922d763340"
      },
      "execution_count": 18,
      "outputs": [
        {
          "output_type": "execute_result",
          "data": {
            "text/plain": [
              "array([  6.        ,   7.33620107,   9.5651188 ,  13.28317767,\n",
              "        19.48527365,  29.8309933 ,  47.0886938 ,  75.87627328,\n",
              "       123.89685006, 204.        ])"
            ]
          },
          "metadata": {},
          "execution_count": 18
        }
      ]
    },
    {
      "cell_type": "code",
      "source": [
        "plt.plot(xlog, ylog, color='blue', lw= 2.)"
      ],
      "metadata": {
        "colab": {
          "base_uri": "https://localhost:8080/",
          "height": 282
        },
        "id": "MvilCINkOwHN",
        "outputId": "1590000c-2ce0-4001-fad4-ecb458595ece"
      },
      "execution_count": 19,
      "outputs": [
        {
          "output_type": "execute_result",
          "data": {
            "text/plain": [
              "[<matplotlib.lines.Line2D at 0x7f8e6e3b79d0>]"
            ]
          },
          "metadata": {},
          "execution_count": 19
        },
        {
          "output_type": "display_data",
          "data": {
            "text/plain": [
              "<Figure size 432x288 with 1 Axes>"
            ],
            "image/png": "[encoded data removed]"
          },
          "metadata": {
            "needs_background": "light"
          }
        }
      ]
    },
    {
      "cell_type": "code",
      "source": [
        "plt.scatter(x, y, color='red', s=20)\n",
        "plt.scatter(xlog, ylog, color='blue', s=20)"
      ],
      "metadata": {
        "colab": {
          "base_uri": "https://localhost:8080/",
          "height": 282
        },
        "id": "uNJ0fNf7O8W7",
        "outputId": "ec61e03b-b109-4375-886d-3bf7cbcea64d"
      },
      "execution_count": 30,
      "outputs": [
        {
          "output_type": "execute_result",
          "data": {
            "text/plain": [
              "<matplotlib.collections.PathCollection at 0x7f8e6e043c10>"
            ]
          },
          "metadata": {},
          "execution_count": 30
        },
        {
          "output_type": "display_data",
          "data": {
            "text/plain": [
              "<Figure size 432x288 with 1 Axes>"
            ],
            "image/png": "[encoded data removed]"
          },
          "metadata": {
            "needs_background": "light"
          }
        }
      ]
    },
    {
      "cell_type": "code",
      "source": [
        "fig = plt.figure(figsize = (5, 5))\n",
        "plt.scatter(x,y, color = 'gray', label = 'linear', s = 20)\n",
        "plt.scatter(xlog,ylog,color = 'mediumvioletred', alpha = 0.5, label = 'log', s = 20)\n",
        "plt.legend(loc = 'best')"
      ],
      "metadata": {
        "colab": {
          "base_uri": "https://localhost:8080/",
          "height": 337
        },
        "id": "b0Tu0AXhPQo-",
        "outputId": "38fca59e-bdc8-455e-f13a-7bd057a1c9cb"
      },
      "execution_count": 34,
      "outputs": [
        {
          "output_type": "execute_result",
          "data": {
            "text/plain": [
              "<matplotlib.legend.Legend at 0x7f8e6debbee0>"
            ]
          },
          "metadata": {},
          "execution_count": 34
        },
        {
          "output_type": "display_data",
          "data": {
            "text/plain": [
              "<Figure size 360x360 with 1 Axes>"
            ],
            "image/png": "[encoded data removed]"
          },
          "metadata": {
            "needs_background": "light"
          }
        }
      ]
    },
    {
      "cell_type": "code",
      "source": [
        "fig, (ax1, ax2) = plt.subplots(1, 2, figsize = (10, 5),\n",
        "                              gridspec_kw = {'wspace':0},\n",
        "                              sharey = True)\n",
        "ax1.scatter(x, y, color='red')\n",
        "ax1.set_title('Linear distribution')\n",
        "ax2.scatter(xlog, ylog, color='blue')\n",
        "ax2.set_title('logarithmic distribution')\n"
      ],
      "metadata": {
        "colab": {
          "base_uri": "https://localhost:8080/",
          "height": 353
        },
        "id": "pmflyo4VQ0as",
        "outputId": "b5b1c3f9-d3e0-487c-e197-62705fa01f22"
      },
      "execution_count": 49,
      "outputs": [
        {
          "output_type": "execute_result",
          "data": {
            "text/plain": [
              "Text(0.5, 1.0, 'logarithmic distribution')"
            ]
          },
          "metadata": {},
          "execution_count": 49
        },
        {
          "output_type": "display_data",
          "data": {
            "text/plain": [
              "<Figure size 720x360 with 2 Axes>"
            ],
            "image/png": "[encoded data removed]"
          },
          "metadata": {
            "needs_background": "light"
          }
        }
      ]
    },
    {
      "cell_type": "code",
      "execution_count": 51,
      "metadata": {
        "id": "HIdqUemZROqv"
      },
      "outputs": [],
      "source": [
        "x = [0.001, 0.5, 0.6, 1., 1.001, 2.8, 5.9, 6., 6.88, 8.4, 9.1, 9.999, 10., 50, 65., 68.9, 70., 89.999, 90.0001, 100.]"
      ]
    },
    {
      "cell_type": "code",
      "source": [
        "y = m*x + b"
      ],
      "metadata": {
        "colab": {
          "base_uri": "https://localhost:8080/",
          "height": 165
        },
        "id": "yU89iAdcV_nu",
        "outputId": "a394dc0d-62d1-4081-8f77-956687a91fb3"
      },
      "execution_count": 52,
      "outputs": [
        {
          "output_type": "error",
          "ename": "TypeError",
          "evalue": "ignored",
          "traceback": [
            "\u001b[0;31m---------------------------------------------------------------------------\u001b[0m",
            "\u001b[0;31mTypeError\u001b[0m                                 Traceback (most recent call last)",
            "\u001b[0;32m<ipython-input-52-ebcfbbb3affa>\u001b[0m in \u001b[0;36m<module>\u001b[0;34m\u001b[0m\n\u001b[0;32m----> 1\u001b[0;31m \u001b[0my\u001b[0m \u001b[0;34m=\u001b[0m \u001b[0mm\u001b[0m\u001b[0;34m*\u001b[0m\u001b[0mx\u001b[0m \u001b[0;34m+\u001b[0m \u001b[0mb\u001b[0m\u001b[0;34m\u001b[0m\u001b[0;34m\u001b[0m\u001b[0m\n\u001b[0m",
            "\u001b[0;31mTypeError\u001b[0m: can only concatenate list (not \"int\") to list"
          ]
        }
      ]
    },
    {
      "cell_type": "code",
      "source": [
        "x = np.array(x)\n",
        "y = m*x + b"
      ],
      "metadata": {
        "id": "rRY8WGwhWOwx"
      },
      "execution_count": 53,
      "outputs": []
    },
    {
      "cell_type": "code",
      "source": [
        "fig = plt.figure(figsize = (5,5))\n",
        "plt.scatter(x, y, color='orange')"
      ],
      "metadata": {
        "colab": {
          "base_uri": "https://localhost:8080/",
          "height": 337
        },
        "id": "1sOLNWLFWUxT",
        "outputId": "8f698b4a-4b71-45a5-af90-a9b1a63ff021"
      },
      "execution_count": 55,
      "outputs": [
        {
          "output_type": "execute_result",
          "data": {
            "text/plain": [
              "<matplotlib.collections.PathCollection at 0x7f8e6d5823d0>"
            ]
          },
          "metadata": {},
          "execution_count": 55
        },
        {
          "output_type": "display_data",
          "data": {
            "text/plain": [
              "<Figure size 360x360 with 1 Axes>"
            ],
            "image/png": "[encoded data removed]"
          },
          "metadata": {
            "needs_background": "light"
          }
        }
      ]
    },
    {
      "cell_type": "code",
      "source": [
        "x = list(x)"
      ],
      "metadata": {
        "id": "WZTZqvCeWwpc"
      },
      "execution_count": 56,
      "outputs": []
    },
    {
      "cell_type": "code",
      "source": [
        "y = []\n",
        "\n",
        "for i in x:\n",
        "  y_calc = m*i + b\n",
        "  y.append(y_calc)\n",
        "\n",
        "plt.scatter(x, y, color=\"red\")"
      ],
      "metadata": {
        "colab": {
          "base_uri": "https://localhost:8080/",
          "height": 282
        },
        "id": "sRNdIoS6WzjR",
        "outputId": "62c34b77-5d1b-4818-f546-35426b9ec7c8"
      },
      "execution_count": 58,
      "outputs": [
        {
          "output_type": "execute_result",
          "data": {
            "text/plain": [
              "<matplotlib.collections.PathCollection at 0x7f8e6d54f220>"
            ]
          },
          "metadata": {},
          "execution_count": 58
        },
        {
          "output_type": "display_data",
          "data": {
            "text/plain": [
              "<Figure size 432x288 with 1 Axes>"
            ],
            "image/png": "[encoded data removed]"
          },
          "metadata": {
            "needs_background": "light"
          }
        }
      ]
    },
    {
      "cell_type": "code",
      "source": [
        "y = [m*i + b for i in x]\n",
        "plt.scatter(x, y)"
      ],
      "metadata": {
        "colab": {
          "base_uri": "https://localhost:8080/",
          "height": 282
        },
        "id": "KemRQb3wXHlS",
        "outputId": "e57a4ac6-f10c-4275-f752-d6077d0ef2ba"
      },
      "execution_count": 59,
      "outputs": [
        {
          "output_type": "execute_result",
          "data": {
            "text/plain": [
              "<matplotlib.collections.PathCollection at 0x7f8e6d50ac40>"
            ]
          },
          "metadata": {},
          "execution_count": 59
        },
        {
          "output_type": "display_data",
          "data": {
            "text/plain": [
              "<Figure size 432x288 with 1 Axes>"
            ],
            "image/png": "[encoded data removed]"
          },
          "metadata": {
            "needs_background": "light"
          }
        }
      ]
    },
    {
      "cell_type": "markdown",
      "source": [
        "## Functions"
      ],
      "metadata": {
        "id": "NT0MQMPWXeGM"
      }
    },
    {
      "cell_type": "code",
      "source": [
        "def get_line(x, m=2, b=4):\n",
        "  return m*x + b"
      ],
      "metadata": {
        "id": "M9_6Xg5jXcCm"
      },
      "execution_count": 60,
      "outputs": []
    },
    {
      "cell_type": "code",
      "source": [
        "x = np.arange(10,80,5)\n",
        "print(x)\n",
        "plt.scatter(x, get_line(x, 1, 0))"
      ],
      "metadata": {
        "colab": {
          "base_uri": "https://localhost:8080/",
          "height": 300
        },
        "id": "xdKAF86IXsGE",
        "outputId": "890a3cbe-8347-4a3e-8bfb-131f21eb414e"
      },
      "execution_count": 69,
      "outputs": [
        {
          "output_type": "stream",
          "name": "stdout",
          "text": [
            "[10 15 20 25 30 35 40 45 50 55 60 65 70 75]\n"
          ]
        },
        {
          "output_type": "execute_result",
          "data": {
            "text/plain": [
              "<matplotlib.collections.PathCollection at 0x7f8e6d25cb80>"
            ]
          },
          "metadata": {},
          "execution_count": 69
        },
        {
          "output_type": "display_data",
          "data": {
            "text/plain": [
              "<Figure size 432x288 with 1 Axes>"
            ],
            "image/png": "[encoded data removed]"
          },
          "metadata": {
            "needs_background": "light"
          }
        }
      ]
    },
    {
      "cell_type": "code",
      "source": [
        "from scipy.optimize import curve_fit"
      ],
      "metadata": {
        "id": "tO6MXwxUYroj"
      },
      "execution_count": 70,
      "outputs": []
    },
    {
      "cell_type": "code",
      "source": [
        "x = np.linspace(0,100,20)\n",
        "\n",
        "y = get_line(x) + np.random.normal(size = x.shape)"
      ],
      "metadata": {
        "id": "WlQVVCy8Yxxz"
      },
      "execution_count": 71,
      "outputs": []
    },
    {
      "cell_type": "code",
      "source": [
        "popt, pcov = curve_fit(get_line, x, y)\n",
        "m, b = popt\n",
        "print(pcov)\n",
        "print('Our data were best fit by a line with a slope of %.2f and an intercept of %.2f.'%(m,b))"
      ],
      "metadata": {
        "colab": {
          "base_uri": "https://localhost:8080/"
        },
        "id": "-s1BsrooZREY",
        "outputId": "957da26b-2003-4fb3-db95-d3af0dbcb663"
      },
      "execution_count": 76,
      "outputs": [
        {
          "output_type": "stream",
          "name": "stdout",
          "text": [
            "[[ 7.11349282e-05 -3.55674661e-03]\n",
            " [-3.55674661e-03  2.43356375e-01]]\n",
            "Our data were best fit by a line with a slope of 2.00 and an intercept of 4.06.\n"
          ]
        }
      ]
    },
    {
      "cell_type": "code",
      "source": [
        "fig, (ax1,ax2) = plt.subplots(1,2,figsize = (10,5), gridspec_kw = {'wspace':0},\n",
        "                              sharey = True)\n",
        "ax1.plot(x, get_line(x), color = 'gray')\n",
        "ax2.plot(x, get_line(x, *popt), color = 'blue')\n",
        "ax1.scatter(x,y)\n",
        "ax2.scatter(x,y)"
      ],
      "metadata": {
        "colab": {
          "base_uri": "https://localhost:8080/",
          "height": 337
        },
        "id": "4gKvZtE0aXM4",
        "outputId": "917ee8dd-42d7-4ade-93e4-4a8be78f2b51"
      },
      "execution_count": 75,
      "outputs": [
        {
          "output_type": "execute_result",
          "data": {
            "text/plain": [
              "<matplotlib.collections.PathCollection at 0x7f8e64af7ee0>"
            ]
          },
          "metadata": {},
          "execution_count": 75
        },
        {
          "output_type": "display_data",
          "data": {
            "text/plain": [
              "<Figure size 720x360 with 2 Axes>"
            ],
            "image/png": "[encoded data removed]"
          },
          "metadata": {
            "needs_background": "light"
          }
        }
      ]
    },
    {
      "cell_type": "code",
      "source": [
        "# Linear data\n",
        "x = np.linspace(0,100,20)\n",
        "y = get_line(x) + np.random.normal(size = x.shape)\n",
        "\n",
        "# Logarithmic data\n",
        "xlog = np.linspace(0,100,20)\n",
        "ylog = get_line(xlog) + np.random.normal(size = xlog.shape)\n",
        "\n",
        "# curve-fitting\n",
        "popt, pcov = curve_fit(get_line, x, y)\n",
        "popt_log, pcov_log = curve_fit(get_line, xlog, ylog)\n",
        "\n",
        "# Plotting \n",
        "\n",
        "fig, (ax1, ax2) = plt.subplots(1,2, figsize = (10,5), gridspec_kw = {'wspace':0}\n",
        "                               ,sharey = True)\n",
        "ax1.scatter(x,y, color='red')\n",
        "ax1.plot(x, get_line(x, *popt), color='red',\n",
        "         label = 'm = %.2f, b = %.2f'%(popt[0], popt[1]))\n",
        "ax1.set_title('linear')\n",
        "ax1.legend(loc = 'upper left')\n",
        "ax2.scatter(xlog,ylog, color='blue')\n",
        "ax2.plot(xlog, get_line(xlog, *popt_log), color='blue',\n",
        "         label = 'm = %.2f, b = %.2f'%(popt_log[0], popt_log[1]))\n",
        "ax2.set_title('Logarithmic')\n",
        "ax2.legend(loc = 'upper left')\n",
        "\n",
        "\n"
      ],
      "metadata": {
        "colab": {
          "base_uri": "https://localhost:8080/",
          "height": 353
        },
        "id": "ODaa81nccTSx",
        "outputId": "2a770a27-60be-463e-fd1c-089f219b1bdd"
      },
      "execution_count": 78,
      "outputs": [
        {
          "output_type": "execute_result",
          "data": {
            "text/plain": [
              "<matplotlib.legend.Legend at 0x7f8e64913c10>"
            ]
          },
          "metadata": {},
          "execution_count": 78
        },
        {
          "output_type": "display_data",
          "data": {
            "text/plain": [
              "<Figure size 720x360 with 2 Axes>"
            ],
            "image/png": "[encoded data removed]"
          },
          "metadata": {
            "needs_background": "light"
          }
        }
      ]
    }
  ]
}